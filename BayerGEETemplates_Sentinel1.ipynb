{
 "cells": [
  {
   "cell_type": "markdown",
   "id": "59c643c3",
   "metadata": {},
   "source": [
    "## Reuseable Sentinel-1 (SAR) functions and templates\n"
   ]
  },
  {
   "cell_type": "code",
   "execution_count": 1,
   "id": "c25e00bb",
   "metadata": {},
   "outputs": [],
   "source": [
    "# pre-install and import all the libraries in one go\n",
    "import numpy as np\n",
    "import ee   \n",
    "import numpy as np\n",
    "import os\n",
    "import time\n",
    "import pandas as pd\n",
    "import geemap\n",
    "import geemap.colormaps as cm"
   ]
  },
  {
   "cell_type": "code",
   "execution_count": 2,
   "id": "3867391a",
   "metadata": {},
   "outputs": [],
   "source": [
    "try:\n",
    "  ee.Initialize()\n",
    "except:\n",
    "  ee.Authenticate()\n",
    "  ee.Initialize()"
   ]
  },
  {
   "cell_type": "markdown",
   "id": "52ed3b1a",
   "metadata": {},
   "source": [
    "## Sentinel-1 functions"
   ]
  },
  {
   "cell_type": "code",
   "execution_count": 4,
   "id": "934e12c4",
   "metadata": {},
   "outputs": [],
   "source": [
    "#glcm function for Sentinel-1 texture\n",
    "def glcmMap (i, bands):\n",
    "  imageVH = i.select(bands)\n",
    "  imageVH = ee.Image(10).pow(imageVH.divide(10)).rename(bands)\n",
    "  square = ee.Kernel.square(3)\n",
    "  result_image = imageVH.unitScale(0,1).multiply(255).toByte().glcmTexture(3, square)\n",
    "  return i.addBands(result_image)\n",
    "\n",
    "def FocalMeanMap (i, bands, radius):\n",
    "  image = i.select(bands)\n",
    "  renamed_bands = []\n",
    "  for band in bands:\n",
    "    renamed_bands.append(band + '_Focal')\n",
    "  focal_image = image.focalMean(radius, 'circle', 'meters').rename(renamed_bands)\n",
    "  return i.addBands(focal_image)\n",
    "\n",
    "def CalcGamma(img):\n",
    "\timg = ee.Image(img)\n",
    "\timg_vv = ee.Image(img).select('VV')\n",
    "\timg_vh = ee.Image(img).select('VH')\n",
    "\timg_vv = img_vv.subtract(((img.select('angle').multiply(3.1415927).divide(180)).cos()).log10().multiply(10))\n",
    "\timg_vh = img_vh.subtract(((img.select('angle').multiply(3.1415927).divide(180)).cos()).log10().multiply(10))\n",
    "\timg_all = img_vv.addBands(img_vh).copyProperties(img).copyProperties(img, ['system:time_start','system:time_end'])\n",
    "\treturn img_all;\n",
    "\n",
    "def S1FilterAngles( im_sar ):\n",
    "  im_sar = ee.Image( im_sar )\n",
    "  sar_min_angle = 0\n",
    "  sar_max_angle = 50.9\n",
    "  im_sar_min = im_sar.select( 'angle' ).gt( sar_min_angle )\n",
    "  im_sar_max = im_sar.select( 'angle' ).lt( sar_max_angle )\n",
    "  im_sar_centre = im_sar_min.And( im_sar_max )\n",
    "  im_mask = im_sar.mask().And( im_sar_centre )\n",
    "  return im_sar.updateMask( im_mask )"
   ]
  },
  {
   "cell_type": "markdown",
   "id": "590c2067",
   "metadata": {},
   "source": [
    "## Get Sentinel-1 data"
   ]
  },
  {
   "cell_type": "code",
   "execution_count": 7,
   "id": "6debf144",
   "metadata": {},
   "outputs": [
    {
     "data": {
      "application/vnd.jupyter.widget-view+json": {
       "model_id": "b51841d8155043be91baf33db801cfc1",
       "version_major": 2,
       "version_minor": 0
      },
      "text/plain": [
       "Map(center=[37.418067998714086, -121.77243799997117], controls=(WidgetControl(options=['position', 'transparen…"
      ]
     },
     "metadata": {},
     "output_type": "display_data"
    }
   ],
   "source": [
    "#Sentinel-1\n",
    "geom = ee.Geometry.BBox(-121.775764, 37.416014, -121.769112, 37.420122)\n",
    "s1_ic = ee.ImageCollection(\"COPERNICUS/S1_GRD\").filter(ee.Filter.eq('orbitProperties_pass', 'ASCENDING')).filter(ee.Filter.eq('system:band_names',['VV','VH','angle'])).filterBounds(geom)\n",
    "s1_ic = s1_ic.filterDate('2022-04-01', '2022-08-01').map(S1FilterAngles).map(CalcGamma)\n",
    "s1_im = s1_ic.mean()\n",
    "s1_im = s1_im.addBands(s1_im.select('VV').subtract(s1_im.select('VH')).rename('VVmVH'))\n",
    "s1_im = s1_im.select(['VV', 'VH', 'VVmVH'])\n",
    "\n",
    "\n",
    "s1Map = geemap.Map()\n",
    "s1Map.centerObject(geom, 11)\n",
    "s1Map.addLayer(s1_im, {'min':-20, 'max':0, 'bands': ['VV']}, '2022 Sentinel-2')\n",
    "s1Map.addLayer(geom, {\"color\": '#00000000'}, 'geometry')\n",
    "s1Map"
   ]
  }
 ],
 "metadata": {
  "kernelspec": {
   "display_name": "Python 3 (ipykernel)",
   "language": "python",
   "name": "python3"
  },
  "language_info": {
   "codemirror_mode": {
    "name": "ipython",
    "version": 3
   },
   "file_extension": ".py",
   "mimetype": "text/x-python",
   "name": "python",
   "nbconvert_exporter": "python",
   "pygments_lexer": "ipython3",
   "version": "3.10.9"
  }
 },
 "nbformat": 4,
 "nbformat_minor": 5
}
