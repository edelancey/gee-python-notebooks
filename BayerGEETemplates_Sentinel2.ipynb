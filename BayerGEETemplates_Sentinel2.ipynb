{
 "cells": [
  {
   "cell_type": "markdown",
   "id": "413a7a34",
   "metadata": {},
   "source": [
    "# Reuseable Sentinel-2 functions and templates"
   ]
  },
  {
   "cell_type": "code",
   "execution_count": 1,
   "id": "12980307",
   "metadata": {},
   "outputs": [],
   "source": [
    "# pre-install and import all the libraries in one go\n",
    "import numpy as np\n",
    "import ee   \n",
    "import numpy as np\n",
    "import os\n",
    "import time\n",
    "import pandas as pd\n",
    "import geemap\n",
    "import geemap.colormaps as cm"
   ]
  },
  {
   "cell_type": "code",
   "execution_count": 2,
   "id": "56218d61",
   "metadata": {},
   "outputs": [],
   "source": [
    "try:\n",
    "  ee.Initialize()\n",
    "except:\n",
    "  ee.Authenticate()\n",
    "  ee.Initialize()"
   ]
  },
  {
   "cell_type": "markdown",
   "id": "84b7f069",
   "metadata": {},
   "source": [
    "## Sentinel-2 functions"
   ]
  },
  {
   "cell_type": "code",
   "execution_count": 3,
   "id": "04c816b9",
   "metadata": {},
   "outputs": [],
   "source": [
    "#adding indicies\n",
    "def addInd(i):\n",
    "  ndvi = i.normalizedDifference(['B8', 'B4']).rename('NDVI')\n",
    "  gndvi = i.normalizedDifference(['B8', 'B3']).rename('GNDVI')\n",
    "  ndmi = i.normalizedDifference(['B11', 'B8']).rename('NDMI')\n",
    "  ndti = i.normalizedDifference(['B11', 'B12']).rename('NDTI')\n",
    "  ndpi = i.expression(\n",
    "    '(N - (0.74 * R + (1.0 - 0.74) * S1))/(N + (0.74 * R + (1.0 - 0.74) * S1))', {\n",
    "      'N': i.select(['B8']),\n",
    "      'R': i.select(['B4']),\n",
    "      'S1': i.select(['B11']),\n",
    "    }).rename(['NDPI'])\n",
    "  savi = i.expression(\n",
    "    '(1.0 + 0.5) * (N - R) / (N + R + 0.5)', {\n",
    "      'N': i.select(['B8']),\n",
    "      'R': i.select(['B4']),\n",
    "    }).rename(['SAVI'])\n",
    "  s2rep = i.expression(\n",
    "    '705.0 + 35.0 * ((((RE3 + R) / 2.0) - RE1) / (RE2 - RE1))', {\n",
    "      'R': i.select(['B4']),\n",
    "      'RE1': i.select(['B5']),\n",
    "      'RE2': i.select(['B6']),\n",
    "      'RE3': i.select(['B7']),\n",
    "    }).rename(['S2REP'])\n",
    "  return i.addBands(ndvi).addBands(gndvi).addBands(ndmi).addBands(ndti).addBands(ndpi).addBands(savi).addBands(s2rep)\n",
    "\n",
    "#functions for cloud free Sentinel-2 image collection\n",
    "def s2Util (s2_img):\n",
    "    return s2_img.updateMask(s2_img.select('B8A').mask().updateMask(s2_img.select('B9').mask()))\n",
    "def s2Util2 (img):\n",
    "    return ee.Image(img).updateMask(ee.Image(img.get('cloud_mask')).select('probability').lt(20));\n",
    "\n",
    "def s2_cloudless (maxCloud, S2Collection):\n",
    "      s2Clouds = ee.ImageCollection('COPERNICUS/S2_CLOUD_PROBABILITY')\n",
    "      s2Sr = S2Collection.map(s2Util)\n",
    "      # Join S2 SR with cloud probability dataset to add cloud mask.\n",
    "      return ee.ImageCollection(ee.Join.saveFirst('cloud_mask').apply(**{\n",
    "        'primary': s2Sr,\n",
    "        'secondary': s2Clouds,\n",
    "        'condition': ee.Filter.equals(**{'leftField': 'system:index', 'rightField': 'system:index'})\n",
    "      }).map(s2Util2))\n",
    "\n",
    "#list of unique dates\n",
    "def ymdList(imgcol):\n",
    "    def iter_func(image, newlist):\n",
    "        date = ee.Number.parse(image.date().format(\"YYYYMMdd\"));\n",
    "        newlist = ee.List(newlist);\n",
    "        return ee.List(newlist.add(date).sort())\n",
    "    ymd = imgcol.iterate(iter_func, ee.List([]))\n",
    "    return list(ee.List(ymd).reduce(ee.Reducer.frequencyHistogram()).getInfo().keys())"
   ]
  },
  {
   "cell_type": "markdown",
   "id": "e874b70d",
   "metadata": {},
   "source": [
    "## Get Sentinel-2 data for whole 2022"
   ]
  },
  {
   "cell_type": "code",
   "execution_count": 5,
   "id": "95ae8f75",
   "metadata": {},
   "outputs": [
    {
     "name": "stdout",
     "output_type": "stream",
     "text": [
      "Sentinel-2 image collection size 85\n"
     ]
    },
    {
     "data": {
      "application/vnd.jupyter.widget-view+json": {
       "model_id": "0876c603cd77430abdcfd83e756b78ae",
       "version_major": 2,
       "version_minor": 0
      },
      "text/plain": [
       "Map(center=[37.418067998714086, -121.77243799997117], controls=(WidgetControl(options=['position', 'transparen…"
      ]
     },
     "metadata": {},
     "output_type": "display_data"
    }
   ],
   "source": [
    "#Sentinel-2 data\n",
    "geom = ee.Geometry.BBox(-121.775764, 37.416014, -121.769112, 37.420122)\n",
    "geomFC = ee.FeatureCollection([ee.Feature(geom)])\n",
    "s2_ic = ee.ImageCollection(\"COPERNICUS/S2_SR_HARMONIZED\").filterDate('2022-01-01', '2023-01-01').filterBounds(geom)\n",
    "s2_ic = s2_ic.filter(ee.Filter.lt('CLOUDY_PIXEL_PERCENTAGE', 30))\n",
    "s2_ic = s2_cloudless(20, s2_ic)\n",
    "s2_ic = s2_ic.map(addInd)\n",
    "print('Sentinel-2 image collection size',s2_ic.size().getInfo())\n",
    "s2_im = s2_ic.median()\n",
    "\n",
    "s2Map = geemap.Map()\n",
    "s2Map.centerObject(geom, 11)\n",
    "s2Map.addLayer(s2_im, {'min':0, 'max':3000, 'bands': ['B4', 'B3', 'B2']}, '2022 Sentinel-2')\n",
    "s2Map.addLayer(geom, {\"color\": '#00000000'}, 'geometry')\n",
    "s2Map"
   ]
  }
 ],
 "metadata": {
  "kernelspec": {
   "display_name": "Python 3 (ipykernel)",
   "language": "python",
   "name": "python3"
  },
  "language_info": {
   "codemirror_mode": {
    "name": "ipython",
    "version": 3
   },
   "file_extension": ".py",
   "mimetype": "text/x-python",
   "name": "python",
   "nbconvert_exporter": "python",
   "pygments_lexer": "ipython3",
   "version": "3.10.9"
  }
 },
 "nbformat": 4,
 "nbformat_minor": 5
}
