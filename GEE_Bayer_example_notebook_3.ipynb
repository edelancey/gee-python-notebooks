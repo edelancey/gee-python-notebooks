{
 "cells": [
  {
   "cell_type": "markdown",
   "id": "fb941ada",
   "metadata": {},
   "source": [
    "# GEE Bayer example notebook 3\n",
    "## Correlating spectral indices from Sentinel-2 to precipitation"
   ]
  },
  {
   "cell_type": "code",
   "execution_count": 1,
   "id": "e3f217f6",
   "metadata": {},
   "outputs": [],
   "source": [
    "# pre-install and import all the libraries in one go\n",
    "import numpy as np\n",
    "import ee   \n",
    "import numpy as np\n",
    "import os\n",
    "import time\n",
    "import pandas as pd\n",
    "import geemap\n",
    "import geemap.colormaps as cm"
   ]
  },
  {
   "cell_type": "code",
   "execution_count": 2,
   "id": "5523cbe3",
   "metadata": {},
   "outputs": [],
   "source": [
    "try:\n",
    "  ee.Initialize()\n",
    "except:\n",
    "  ee.Authenticate()\n",
    "  ee.Initialize()"
   ]
  },
  {
   "cell_type": "code",
   "execution_count": null,
   "id": "009f20eb",
   "metadata": {},
   "outputs": [],
   "source": [
    "ee.data.setDefaultWorkloadTag('ee-gee-test-notebook3-evandelancey')"
   ]
  },
  {
   "cell_type": "markdown",
   "id": "30c69444",
   "metadata": {},
   "source": [
    "## Sentinel-2 functions"
   ]
  },
  {
   "cell_type": "code",
   "execution_count": 24,
   "id": "e6f87d76",
   "metadata": {},
   "outputs": [],
   "source": [
    "#adding indicies\n",
    "def addInd(i):\n",
    "  ndvi = i.normalizedDifference(['B8', 'B4']).rename('NDVI')\n",
    "  gndvi = i.normalizedDifference(['B8', 'B3']).rename('GNDVI')\n",
    "  ndmi = i.normalizedDifference(['B11', 'B8']).rename('NDMI')\n",
    "  ndti = i.normalizedDifference(['B11', 'B12']).rename('NDTI')\n",
    "  ndpi = i.expression(\n",
    "    '(N - (0.74 * R + (1.0 - 0.74) * S1))/(N + (0.74 * R + (1.0 - 0.74) * S1))', {\n",
    "      'N': i.select(['B8']),\n",
    "      'R': i.select(['B4']),\n",
    "      'S1': i.select(['B11']),\n",
    "    }).rename(['NDPI'])\n",
    "  savi = i.expression(\n",
    "    '(1.0 + 0.5) * (N - R) / (N + R + 0.5)', {\n",
    "      'N': i.select(['B8']),\n",
    "      'R': i.select(['B4']),\n",
    "    }).rename(['SAVI'])\n",
    "  s2rep = i.expression(\n",
    "    '705.0 + 35.0 * ((((RE3 + R) / 2.0) - RE1) / (RE2 - RE1))', {\n",
    "      'R': i.select(['B4']),\n",
    "      'RE1': i.select(['B5']),\n",
    "      'RE2': i.select(['B6']),\n",
    "      'RE3': i.select(['B7']),\n",
    "    }).rename(['S2REP'])\n",
    "  return i.addBands(ndvi).addBands(gndvi).addBands(ndmi).addBands(ndti).addBands(ndpi).addBands(savi).addBands(s2rep)\n",
    "\n",
    "#functions for cloud free Sentinel-2 image collection\n",
    "def s2Util (s2_img):\n",
    "    return s2_img.updateMask(s2_img.select('B8A').mask().updateMask(s2_img.select('B9').mask()))\n",
    "def s2Util2 (img):\n",
    "    return ee.Image(img).updateMask(ee.Image(img.get('cloud_mask')).select('probability').lt(20));\n",
    "\n",
    "def s2_cloudless (maxCloud, S2Collection):\n",
    "      s2Clouds = ee.ImageCollection('COPERNICUS/S2_CLOUD_PROBABILITY')\n",
    "      s2Sr = S2Collection.map(s2Util)\n",
    "      # Join S2 SR with cloud probability dataset to add cloud mask.\n",
    "      return ee.ImageCollection(ee.Join.saveFirst('cloud_mask').apply(**{\n",
    "        'primary': s2Sr,\n",
    "        'secondary': s2Clouds,\n",
    "        'condition': ee.Filter.equals(**{'leftField': 'system:index', 'rightField': 'system:index'})\n",
    "      }).map(s2Util2))\n",
    "\n",
    "#list of unique dates\n",
    "def ymdList(imgcol):\n",
    "    def iter_func(image, newlist):\n",
    "        date = ee.Number.parse(image.date().format(\"YYYYMMdd\"));\n",
    "        newlist = ee.List(newlist);\n",
    "        return ee.List(newlist.add(date).sort())\n",
    "    ymd = imgcol.iterate(iter_func, ee.List([]))\n",
    "    return list(ee.List(ymd).reduce(ee.Reducer.frequencyHistogram()).getInfo().keys())"
   ]
  },
  {
   "cell_type": "markdown",
   "id": "1711b4a2",
   "metadata": {},
   "source": [
    "## Get Sentinel-2 for the whole year of 2022"
   ]
  },
  {
   "cell_type": "code",
   "execution_count": 94,
   "id": "fb359cdc",
   "metadata": {},
   "outputs": [
    {
     "name": "stdout",
     "output_type": "stream",
     "text": [
      "Sentinel-2 image collection size 85\n"
     ]
    },
    {
     "data": {
      "application/vnd.jupyter.widget-view+json": {
       "model_id": "186f9b9a0717421eb50474784580a80e",
       "version_major": 2,
       "version_minor": 0
      },
      "text/plain": [
       "Map(center=[20, 0], controls=(WidgetControl(options=['position', 'transparent_bg'], widget=HBox(children=(Togg…"
      ]
     },
     "metadata": {},
     "output_type": "display_data"
    }
   ],
   "source": [
    "#Sentinel-2 data\n",
    "geom = ee.Geometry.BBox(-121.775764, 37.416014, -121.769112, 37.420122)\n",
    "geomFC = ee.FeatureCollection([ee.Feature(geom)])\n",
    "s2_ic = ee.ImageCollection(\"COPERNICUS/S2_SR_HARMONIZED\").filterDate('2022-01-01', '2023-01-01').filterBounds(geom)\n",
    "s2_ic = s2_ic.filter(ee.Filter.lt('CLOUDY_PIXEL_PERCENTAGE', 30))\n",
    "s2_ic = s2_cloudless(20, s2_ic)\n",
    "s2_ic = s2_ic.map(addInd)\n",
    "print('Sentinel-2 image collection size',s2_ic.size().getInfo())\n",
    "s2_im = s2_ic.median()\n",
    "\n",
    "s2Map = geemap.Map()\n",
    "s2Map.centerObject(geom)\n",
    "s2Map.addLayer(s2_im, {'min':0, 'max':3000, 'bands': ['B4', 'B3', 'B2']}, '2022 Sentinel-2')\n",
    "s2Map.addLayer(geom, {\"color\": '#00000000'}, 'geometry')\n",
    "s2Map\n"
   ]
  },
  {
   "cell_type": "markdown",
   "id": "63dbc329",
   "metadata": {},
   "source": [
    "## Get CHIRPS precip data for all of 2022"
   ]
  },
  {
   "cell_type": "code",
   "execution_count": 95,
   "id": "c41dd914",
   "metadata": {},
   "outputs": [
    {
     "data": {
      "application/vnd.jupyter.widget-view+json": {
       "model_id": "5486447eb42f4eb7b289175c460ae208",
       "version_major": 2,
       "version_minor": 0
      },
      "text/plain": [
       "Map(center=[37.418067998714086, -121.77243799997117], controls=(WidgetControl(options=['position', 'transparen…"
      ]
     },
     "metadata": {},
     "output_type": "display_data"
    }
   ],
   "source": [
    "#CHIRPS daily precip\n",
    "precip_ic = ee.ImageCollection(\"UCSB-CHG/CHIRPS/DAILY\").filterDate('2022-01-01', '2023-01-01')\n",
    "precip_im = precip_ic.sum()\n",
    "\n",
    "precipMap = geemap.Map()\n",
    "precipMap.centerObject(geom, 9)\n",
    "precipMap.addLayer(precip_im, {'min':0, 'max':1000, 'palette': ['red', 'yellow', 'blue']}, 'sum precip')\n",
    "precipMap.addLayer(geom, {\"color\": '#00000000'}, 'geometry')\n",
    "precipMap"
   ]
  },
  {
   "cell_type": "markdown",
   "id": "4d2a1a75",
   "metadata": {},
   "source": [
    "## Every Sentinel-2 date get the mean index and cumulative rain for the past 2 weeks"
   ]
  },
  {
   "cell_type": "code",
   "execution_count": 96,
   "id": "5e4359f1",
   "metadata": {},
   "outputs": [
    {
     "name": "stdout",
     "output_type": "stream",
     "text": [
      "list of days with Sentinel-2 imagery ['2022-01-09', '2022-01-19', '2022-01-24', '2022-02-08', '2022-02-13', '2022-02-18', '2022-02-23', '2022-02-28', '2022-03-10', '2022-03-20', '2022-03-25', '2022-04-04', '2022-04-09', '2022-04-24', '2022-04-29', '2022-05-04', '2022-05-09', '2022-05-14', '2022-05-19', '2022-05-24', '2022-05-29', '2022-06-13', '2022-06-18', '2022-06-23', '2022-06-28', '2022-07-08', '2022-07-13', '2022-07-18', '2022-07-23', '2022-08-02', '2022-08-07', '2022-08-12', '2022-08-22', '2022-08-27', '2022-09-01', '2022-09-06', '2022-09-16', '2022-09-26', '2022-10-01', '2022-10-06', '2022-10-11', '2022-10-16', '2022-10-21', '2022-10-26', '2022-11-10', '2022-11-15', '2022-11-20', '2022-11-25', '2022-11-30', '2022-12-05', '2022-12-15', '2022-12-20']\n"
     ]
    }
   ],
   "source": [
    "#correlate VIs and precip by reducing over region every S2 date\n",
    "dateList = ymdList(s2_ic)\n",
    "\n",
    "\n",
    "dateList = [item[:4] + '-' + item[4:6] + \"-\" + item[6:8] for item in dateList]\n",
    "print('list of days with Sentinel-2 imagery', dateList)\n",
    "dateList = ee.List(dateList)\n",
    "\n",
    "\n",
    "def tsValueExtract (date):\n",
    "    startD = ee.Date(date)\n",
    "    endD = startD.advance(1, 'day')\n",
    "    startD_precip = endD.advance(-14, 'day')\n",
    "    \n",
    "    s2Day = s2_ic.filterDate(startD, endD).select(['NDVI', 'NDMI', 'SAVI']).median()\n",
    "    precipWeek = precip_ic.filterDate(startD_precip, endD).sum()\n",
    "    \n",
    "    dataStack = s2Day.addBands(precipWeek)\n",
    "    \n",
    "    extract = dataStack.reduceRegions(**{'collection': geomFC, 'reducer': ee.Reducer.mean(), 'scale': 30})\n",
    "    return ee.Feature(extract)\n",
    "\n",
    "precip_VI_table = ee.FeatureCollection(dateList.map(tsValueExtract)).flatten().filter(ee.Filter.neq('NDVI', None))\n",
    "#print(precip_VI_table.getInfo())\n",
    "\n",
    "index = 'NDMI'\n",
    "vi = precip_VI_table.aggregate_array(index).getInfo()\n",
    "precip = precip_VI_table.aggregate_array('precipitation').getInfo()\n",
    "    \n",
    "    "
   ]
  },
  {
   "cell_type": "markdown",
   "id": "f88a5f59",
   "metadata": {},
   "source": [
    "## plot this"
   ]
  },
  {
   "cell_type": "code",
   "execution_count": 97,
   "id": "a8e3a8e9",
   "metadata": {},
   "outputs": [
    {
     "data": {
      "text/plain": [
       "<Axes: xlabel='precip', ylabel='NDMI'>"
      ]
     },
     "execution_count": 97,
     "metadata": {},
     "output_type": "execute_result"
    },
    {
     "data": {
      "image/png": "[encoded data removed]",
      "text/plain": [
       "<Figure size 640x480 with 1 Axes>"
      ]
     },
     "metadata": {},
     "output_type": "display_data"
    }
   ],
   "source": [
    "d = {index: vi, 'precip': precip}\n",
    "df = pd.DataFrame(data=d)\n",
    "df.plot.scatter(x=\"precip\", y=index)"
   ]
  }
 ],
 "metadata": {
  "kernelspec": {
   "display_name": "Python 3 (ipykernel)",
   "language": "python",
   "name": "python3"
  },
  "language_info": {
   "codemirror_mode": {
    "name": "ipython",
    "version": 3
   },
   "file_extension": ".py",
   "mimetype": "text/x-python",
   "name": "python",
   "nbconvert_exporter": "python",
   "pygments_lexer": "ipython3",
   "version": "3.10.9"
  }
 },
 "nbformat": 4,
 "nbformat_minor": 5
}
