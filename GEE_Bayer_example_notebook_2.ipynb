{
 "cells": [
  {
   "cell_type": "code",
   "execution_count": 40,
   "id": "8a80ac7f",
   "metadata": {},
   "outputs": [],
   "source": [
    "# pre-install and import all the libraries in one go\n",
    "import numpy as np\n",
    "import ee   \n",
    "import numpy as np\n",
    "import os\n",
    "import time\n",
    "import pandas as pd\n",
    "import geemap\n",
    "import geemap.colormaps as cm"
   ]
  },
  {
   "cell_type": "code",
   "execution_count": 41,
   "id": "150997bd",
   "metadata": {},
   "outputs": [],
   "source": [
    "try:\n",
    "  ee.Initialize()\n",
    "except:\n",
    "  ee.Authenticate()\n",
    "  ee.Initialize()"
   ]
  },
  {
   "cell_type": "code",
   "execution_count": 42,
   "id": "aa26b9a8",
   "metadata": {},
   "outputs": [],
   "source": [
    "ee.data.setDefaultWorkloadTag('ee-gee-test-notebook2-evandelancey')"
   ]
  },
  {
   "cell_type": "markdown",
   "id": "edcc9e2e",
   "metadata": {},
   "source": [
    "# Stacking data and aggregating"
   ]
  },
  {
   "cell_type": "code",
   "execution_count": 43,
   "id": "de4124bd",
   "metadata": {},
   "outputs": [
    {
     "data": {
      "application/vnd.jupyter.widget-view+json": {
       "model_id": "e5c98f7e3eb44b9a9f25c59081cfcf9e",
       "version_major": 2,
       "version_minor": 0
      },
      "text/plain": [
       "Map(center=[37.182082045953905, -119.46872761017087], controls=(WidgetControl(options=['position', 'transparen…"
      ]
     },
     "metadata": {},
     "output_type": "display_data"
    }
   ],
   "source": [
    "#california\n",
    "california = ee.FeatureCollection(\"FAO/GAUL/2015/level1\").filter(ee.Filter.eq('ADM1_NAME', 'California'))\n",
    "\n",
    "#data for stacking\n",
    "elevation = ee.Image(\"NASA/NASADEM_HGT/001\").select('elevation') # elevation 30 m\n",
    "slope = ee.Terrain.slope(elevation).rename('slope')\n",
    "climate = ee.ImageCollection(\"ECMWF/ERA5/MONTHLY\").filterDate('2020-04-01', '2020-05-01')\n",
    "temp = climate.select('mean_2m_air_temperature').mean().subtract(273.15).rename('temp')\n",
    "soilNit = ee.Image(\"projects/soilgrids-isric/nitrogen_mean\").select('nitrogen_0-5cm_mean').divide(100).rename('soilNit')\n",
    "\n",
    "Map = geemap.Map()\n",
    "Map.centerObject(california, 6)\n",
    "Map.addLayer(temp.clip(california), {'min': 5, 'max':25, 'palette': cm.get_palette('jet', n_class=8)}, 'temp')\n",
    "Map.addLayer(elevation.clip(california), {'min':0, 'max':3000, 'palette': cm.palettes.dem}, 'elevtation')\n",
    "Map"
   ]
  },
  {
   "cell_type": "code",
   "execution_count": 44,
   "id": "7a0ec743",
   "metadata": {},
   "outputs": [
    {
     "name": "stdout",
     "output_type": "stream",
     "text": [
      "['elevation', 'slope', 'temp', 'soilNit']\n"
     ]
    }
   ],
   "source": [
    "#stack data\n",
    "dataStack = elevation.addBands(slope).addBands(temp).addBands(soilNit)\n",
    "print(dataStack.bandNames().getInfo())"
   ]
  },
  {
   "cell_type": "code",
   "execution_count": 61,
   "id": "47a14444",
   "metadata": {},
   "outputs": [
    {
     "data": {
      "application/vnd.jupyter.widget-view+json": {
       "model_id": "8c76e1d20c9e4c83a3a0048e489d2faf",
       "version_major": 2,
       "version_minor": 0
      },
      "text/plain": [
       "Map(center=[37.182082045953905, -119.46872761017087], controls=(WidgetControl(options=['position', 'transparen…"
      ]
     },
     "metadata": {},
     "output_type": "display_data"
    }
   ],
   "source": [
    "#summarize data by hexagons on the fly\n",
    "i = ee.Image(1).clip(california)\n",
    "seeds = ee.Algorithms.Image.Segmentation.seedGrid(30, 'hex')\n",
    "grid = ee.Algorithms.Image.Segmentation.SNIC(image = i, seeds = seeds)\n",
    "grid = grid.select('clusters')\n",
    "hexMeans =  dataStack.addBands(grid).reduceConnectedComponents(ee.Reducer.mean(), 'clusters', 256)\n",
    "\n",
    "\n",
    "\n",
    "Map = geemap.Map()\n",
    "Map.centerObject(california, 6)\n",
    "Map.addLayer(grid.randomVisualizer(), None, 'Hex grid')\n",
    "Map.addLayer(hexMeans, {'min':0, 'max': 20, 'bands': ['slope'], 'palette': cm.get_palette('magma_r', n_class=8)}, 'hex mean slope')\n",
    "Map.addLayer(hexMeans, {'min':0, 'max': 40, 'bands': ['soilNit'], 'palette': cm.get_palette('pink_r', n_class=8)}, 'hex mean soil nitrogen')\n",
    "Map"
   ]
  },
  {
   "cell_type": "markdown",
   "id": "0dd7dafc",
   "metadata": {},
   "source": [
    "# Exporting data"
   ]
  },
  {
   "cell_type": "code",
   "execution_count": 67,
   "id": "a0d8a5f1",
   "metadata": {},
   "outputs": [],
   "source": [
    "#export gridded data\n",
    "task = ee.batch.Export.image.toAsset(image=hexMeans,\n",
    "                                     description='environmentVars_hexGrid',\n",
    "                                     assetId = 'projects/bcs-loc360-earth-engine-dev/assets/TestDump/environmentVars_hexGrid',\n",
    "                                     scale=30,\n",
    "                                     region=california.geometry(),\n",
    "                                    maxPixels=10e12)\n",
    "task.start()"
   ]
  }
 ],
 "metadata": {
  "kernelspec": {
   "display_name": "Python 3 (ipykernel)",
   "language": "python",
   "name": "python3"
  },
  "language_info": {
   "codemirror_mode": {
    "name": "ipython",
    "version": 3
   },
   "file_extension": ".py",
   "mimetype": "text/x-python",
   "name": "python",
   "nbconvert_exporter": "python",
   "pygments_lexer": "ipython3",
   "version": "3.10.9"
  }
 },
 "nbformat": 4,
 "nbformat_minor": 5
}
